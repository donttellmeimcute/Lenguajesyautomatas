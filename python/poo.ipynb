{
 "cells": [
  {
   "cell_type": "code",
   "execution_count": 2,
   "metadata": {},
   "outputs": [
    {
     "name": "stdout",
     "output_type": "stream",
     "text": [
      "estoy comiendo, soy de la raza zorro y me llamo foxy\n",
      "estoy comiendo, soy de la raza vaca y me llamo rogelia\n"
     ]
    }
   ],
   "source": [
    "#programacion orientada a objetos\n",
    "class animal:\n",
    "    def __init__(self,raza,nombre):\n",
    "        self.raza = raza\n",
    "        self.nombre = nombre\n",
    "    def comer(self):\n",
    "        print(f\"estoy comiendo, soy de la raza {self.raza} y me llamo {self.nombre}\")\n",
    "\n",
    "zorro = animal(\"zorro\", \"foxy\")\n",
    "zorro.comer()\n",
    "vaca = animal(\"vaca\",\"rogelia\")\n",
    "vaca.comer()"
   ]
  },
  {
   "cell_type": "code",
   "execution_count": null,
   "metadata": {},
   "outputs": [],
   "source": []
  }
 ],
 "metadata": {
  "kernelspec": {
   "display_name": "Python 3",
   "language": "python",
   "name": "python3"
  },
  "language_info": {
   "codemirror_mode": {
    "name": "ipython",
    "version": 3
   },
   "file_extension": ".py",
   "mimetype": "text/x-python",
   "name": "python",
   "nbconvert_exporter": "python",
   "pygments_lexer": "ipython3",
   "version": "3.12.2"
  }
 },
 "nbformat": 4,
 "nbformat_minor": 2
}
