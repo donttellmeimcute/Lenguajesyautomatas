{
 "cells": [
  {
   "cell_type": "code",
   "execution_count": null,
   "metadata": {},
   "outputs": [],
   "source": [
    "#programacion orientada a objetos\n",
    "class animal:\n",
    "    def __init__(self,raza,nombre):\n",
    "        self.raza = raza\n",
    "        self.nombre = nombre\n",
    "    def comer(self):\n",
    "        print(f\"estoy comiendo, soy de la raza {self.raza} y me llamo {self.nombre}\")\n",
    "\n",
    "animal1 = animal(\"zorro\", \"foxy\")\n",
    "animal1.comer()"
   ]
  }
 ],
 "metadata": {
  "language_info": {
   "name": "python"
  }
 },
 "nbformat": 4,
 "nbformat_minor": 2
}
