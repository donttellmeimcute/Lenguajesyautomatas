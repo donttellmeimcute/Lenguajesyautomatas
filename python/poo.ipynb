{
 "cells": [
  {
   "cell_type": "code",
   "execution_count": null,
   "metadata": {},
   "outputs": [],
   "source": [
    "#programacion orientada a objetos bloque 1\n",
    "class animal:\n",
    "    def __init__(self,raza,nombre):\n",
    "        self.raza = raza\n",
    "        self.nombre = nombre\n",
    "    def comer(self):\n",
    "        print(f\"estoy comiendo, soy de la raza {self.raza} y me llamo {self.nombre}\")\n",
    "\n",
    "zorro = animal(\"zorro\", \"foxy\")\n",
    "zorro.comer()\n",
    "vaca = animal(\"vaca\",\"rogelia\")\n",
    "vaca.comer()"
   ]
  },
  {
   "cell_type": "code",
   "execution_count": null,
   "metadata": {},
   "outputs": [],
   "source": [
    "#bloque 2\n",
    "x = [2,5,8,9]\n",
    "x.append(100)\n",
    "x.append(200)\n",
    "for i in range(len(x)):\n",
    "    print(f\"indice: {i} valor: {x[i]}\")\n",
    "    "
   ]
  },
  {
   "cell_type": "code",
   "execution_count": null,
   "metadata": {},
   "outputs": [],
   "source": [
    "num = 1\n",
    "x = []\n",
    "while num != 0:\n",
    "    num = int(input(\"ingrese un numero: \"))\n",
    "    if num in x:\n",
    "         print(\"ya esta\")\n",
    "    else:\n",
    "        x.append(num)\n",
    "        print(f'agregado: {num}')\n",
    "print(f'la lista final es {x}')"
   ]
  },
  {
   "cell_type": "code",
   "execution_count": 27,
   "metadata": {},
   "outputs": [
    {
     "name": "stdout",
     "output_type": "stream",
     "text": [
      "En el diccionario en la clave: A, El valor es: 2\n",
      "En el diccionario en la clave: B, El valor es: 3\n",
      "En el diccionario en la clave: C, El valor es: 5\n",
      "En el diccionario en la clave: Clave, El valor es: Valor\n"
     ]
    }
   ],
   "source": [
    "dicc = {'A':2,\n",
    "        'B':3,\n",
    "        'C':5}\n",
    "#agregar al diccionario\n",
    "dicc[\"Clave\"] = 'Valor'\n",
    "for i in dicc:\n",
    "    print(f\"En el diccionario en la clave: {i}, El valor es: {dicc[i]}\")"
   ]
  },
  {
   "cell_type": "code",
   "execution_count": 32,
   "metadata": {},
   "outputs": [
    {
     "name": "stdout",
     "output_type": "stream",
     "text": [
      "En la clave: Yo, el valor es: 20\n",
      "En la clave: otroyo, el valor es: 21\n"
     ]
    }
   ],
   "source": [
    "class Registro:\n",
    "    def __init__(self):\n",
    "        self.edades = {}\n",
    "    def add(self,Nombre,edad):\n",
    "        if not Nombre in self.edades:\n",
    "            self.edades[Nombre] = edad\n",
    "        else:\n",
    "            print('ya esta en el dicc')\n",
    "    def printer(self):\n",
    "        for i in self.edades:\n",
    "            print(f'En la clave: {i}, el valor es: {self.edades[i]}')\n",
    "sevmsc1= Registro()\n",
    "\n",
    "sevmsc1.add(\"Yo\",20)\n",
    "sevmsc1.add(\"otroyo\")\n",
    "\n",
    "sevmsc1.printer()\n",
    "\n",
    "\n",
    "    "
   ]
  },
  {
   "cell_type": "code",
   "execution_count": 61,
   "metadata": {},
   "outputs": [
    {
     "name": "stdout",
     "output_type": "stream",
     "text": [
      "El promedio es: 3.8\n"
     ]
    }
   ],
   "source": [
    "class prom:\n",
    "    def __init__(self):\n",
    "        self.valores = []\n",
    "    def add(self,numero):\n",
    "        self.valores.append(int(numero))\n",
    "    def prom(self):\n",
    "        if len(self.valores) == 5:\n",
    "            prome = sum(self.valores)/len(self.valores)\n",
    "            print(f'El promedio es: {prome}')\n",
    "        else:\n",
    "            print(f'Hay {len(self.valores)} los cuales son {self.valores} y solo acepta 5')\n",
    "\n",
    "agregar = [1,5,3,7,3]\n",
    "objeto = prom()\n",
    "for num in agregar:\n",
    "    objeto.add(num)\n",
    "objeto.prom()"
   ]
  }
 ],
 "metadata": {
  "kernelspec": {
   "display_name": "Python 3",
   "language": "python",
   "name": "python3"
  },
  "language_info": {
   "codemirror_mode": {
    "name": "ipython",
    "version": 3
   },
   "file_extension": ".py",
   "mimetype": "text/x-python",
   "name": "python",
   "nbconvert_exporter": "python",
   "pygments_lexer": "ipython3",
   "version": "3.12.2"
  }
 },
 "nbformat": 4,
 "nbformat_minor": 2
}
